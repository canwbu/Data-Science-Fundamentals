{
 "cells": [
  {
   "attachments": {},
   "cell_type": "markdown",
   "metadata": {},
   "source": [
    "# Worksheet 03\n",
    "\n",
    "Name:  Can Wang\n",
    "UID: U85151631\n",
    "\n",
    "### Topics\n",
    "\n",
    "- Intro to DS\n",
    "\n",
    "### Linear Algebra Review\n",
    "\n",
    "If you need a linear algebra review, please read through the [following pdf](https://github.com/gallettilance/CS506-Spring2023/raw/main/worksheets/lecture_03_linear_algebra_review.pdf) before next class\n",
    "\n",
    "### Intro to Data Science\n",
    "\n",
    "a) what property must a hypothesis have?"
   ]
  },
  {
   "cell_type": "markdown",
   "metadata": {},
   "source": [
    "A hypothesis must have Testability, Falsifiability."
   ]
  },
  {
   "cell_type": "markdown",
   "metadata": {},
   "source": [
    "b) what examples would you have wanted to try?"
   ]
  },
  {
   "cell_type": "markdown",
   "metadata": {},
   "source": [
    "Maybe test out Darwin's therom? Which stands for a long time and never been proving wrong."
   ]
  },
  {
   "cell_type": "markdown",
   "metadata": {},
   "source": [
    "c) Poll 1"
   ]
  },
  {
   "cell_type": "markdown",
   "metadata": {},
   "source": [
    "I chose B"
   ]
  },
  {
   "cell_type": "markdown",
   "metadata": {},
   "source": [
    "d) Given the hypothesis (x, 2x, 3x), for each of the following, determine whether they are positive or negative examples:\n",
    "\n",
    "- (2, 4, 6)\n",
    "- (6, 8 , 10)\n",
    "- (1, 3, 5)"
   ]
  },
  {
   "cell_type": "markdown",
   "metadata": {},
   "source": [
    "(1,3,5) and (6,8,10)are negative exmaples. (2,4,6) is the positive example."
   ]
  },
  {
   "cell_type": "markdown",
   "metadata": {},
   "source": [
    "e) Poll 2"
   ]
  },
  {
   "cell_type": "markdown",
   "metadata": {},
   "source": [
    "Should alsp try negative example to varify the hypothesis.So we can actually test the hypothesis. "
   ]
  },
  {
   "attachments": {},
   "cell_type": "markdown",
   "metadata": {},
   "source": [
    "f) Describe steps of a Data Science Workflow"
   ]
  },
  {
   "cell_type": "markdown",
   "metadata": {},
   "source": [
    "First ask what and who the odel si used/intended for. (Is it just the general trend that is important of teh exact predictions that are important?,  is this a problem that needs predictive tools to solve?) "
   ]
  },
  {
   "attachments": {},
   "cell_type": "markdown",
   "metadata": {},
   "source": [
    "g) Give a real world example for each of the following data types:\n",
    "\n",
    "- record\n",
    "- graph\n",
    "- image\n",
    "- text"
   ]
  },
  {
   "cell_type": "markdown",
   "metadata": {},
   "source": [
    "- record\n",
    "names, ages, balance\n",
    "- graph\n",
    "nodes, edges are important in maps, road or whatever.\n",
    "- image\n",
    "imagies are bunch of pixels that could be controled by code. We can took away pixels to make a picture harder to recognize. \n",
    "- text\n",
    "list of words."
   ]
  },
  {
   "attachments": {},
   "cell_type": "markdown",
   "metadata": {},
   "source": [
    "h) Give a real world example of unsupervised learning"
   ]
  },
  {
   "cell_type": "markdown",
   "metadata": {},
   "source": [
    "Find out similarity of a group of person."
   ]
  },
  {
   "attachments": {},
   "cell_type": "markdown",
   "metadata": {},
   "source": [
    "i) Give a real world example of supervised learning"
   ]
  },
  {
   "cell_type": "markdown",
   "metadata": {},
   "source": [
    "Plot a graph and figure out the relationship between times and traffic."
   ]
  }
 ],
 "metadata": {
  "kernelspec": {
   "display_name": "Python 3",
   "language": "python",
   "name": "python3"
  },
  "language_info": {
   "codemirror_mode": {
    "name": "ipython",
    "version": 3
   },
   "file_extension": ".py",
   "mimetype": "text/x-python",
   "name": "python",
   "nbconvert_exporter": "python",
   "pygments_lexer": "ipython3",
   "version": "3.11.1 (main, Dec  7 2022, 00:00:00) [GCC 12.2.1 20221121 (Red Hat 12.2.1-4)]"
  },
  "orig_nbformat": 4,
  "vscode": {
   "interpreter": {
    "hash": "e7370f93d1d0cde622a1f8e1c04877d8463912d04d973331ad4851f04de6915a"
   }
  }
 },
 "nbformat": 4,
 "nbformat_minor": 2
}
