{
 "cells": [
  {
   "attachments": {},
   "cell_type": "markdown",
   "metadata": {},
   "source": [
    "## Lab 02 - Pandas and Data Visualization\n",
    "This notebook will introduce you to the basics of Pandas and Data Visualization. You will learn how to load data into a Pandas DataFrame, how to perform basic data analysis, and how to visualize data. The first part of this notebook will be an interactive tutorial, and the second part will be practice exercises for you to do! **Note that the practice problems will be checked when submitted!**"
   ]
  },
  {
   "cell_type": "markdown",
   "metadata": {},
   "source": [
    "#### Pandas\n",
    "Pandas is a popular open-source Python library that provides data structures and data analysis tools for working with structured data. Pandas is a versatile library that simplifies data manipulation, analysis, and exploration in Python. Some of its uses:\n",
    "* Tabular Data Handling\n",
    "* Data Cleaning and Transformation\n",
    "* Data Exploration\n",
    "* Data Import/Export\n",
    "* Data Visualization\n",
    "\n",
    "#### Matplotlib\n",
    "Matplotlib is a widely used for creating static, animated, and interactive visualizations. Whether you are conducting data analysis, scientific research, or data communication, Matplotlib helps you present your findings effectively and intuitively."
   ]
  },
  {
   "attachments": {},
   "cell_type": "markdown",
   "metadata": {},
   "source": [
    "### Pre-requisites"
   ]
  },
  {
   "cell_type": "code",
   "execution_count": 71,
   "metadata": {},
   "outputs": [],
   "source": [
    "# In case you don't have pandas, uncomment\n",
    "# the following lines and run the cell\n",
    "\n",
    "# %pip install pandas"
   ]
  },
  {
   "attachments": {},
   "cell_type": "markdown",
   "metadata": {},
   "source": [
    "### Overview\n",
    "In this notebook, you will be learning how to use the Pandas library by working with the `cookies.csv` file. \n",
    "\n",
    "#### `cookies.csv` file :\n",
    "\n",
    "The `cookies.csv` file contains information about cookies that were made in Rico's Bisquito's factory. \n",
    "\n",
    "The columns are the following:\n",
    "\n",
    "`cookie`: the name of a cookie\n",
    "`ingredients`: a list of the cookie's ingredients\n",
    "`calories`: the number of calories the created cookie has\n",
    "`radius`: the radius of the created cookie, in cm\n",
    "`cost_to_make`: the cost it took to make the created cookie, in dollars"
   ]
  },
  {
   "attachments": {},
   "cell_type": "markdown",
   "metadata": {},
   "source": [
    "### Reading the CSV file\n",
    "\n",
    "First, we need to import the Pandas library. We will be using the `pd` alias for the Pandas library."
   ]
  },
  {
   "cell_type": "code",
   "execution_count": 72,
   "metadata": {},
   "outputs": [],
   "source": [
    "import pandas as pd\n",
    "import matplotlib.pyplot as plt"
   ]
  },
  {
   "attachments": {},
   "cell_type": "markdown",
   "metadata": {},
   "source": [
    "We will now look at the `cookies.csv` file. We will use the `pd.read_csv()` function to read in the CSV file. We will store the data in a variable called `cookies`."
   ]
  },
  {
   "cell_type": "code",
   "execution_count": 73,
   "metadata": {},
   "outputs": [],
   "source": [
    "cookies = pd.read_csv(\"cookies.csv\")\n",
    "#print (df)"
   ]
  },
  {
   "attachments": {},
   "cell_type": "markdown",
   "metadata": {},
   "source": [
    "#### Dataframe\n",
    "Dataframes are a data structure that Pandas uses to store data. Dataframes are similar to tables in a database. Dataframes have rows and columns. Each row represents a single data point, and each column represents a feature of the data point."
   ]
  },
  {
   "attachments": {},
   "cell_type": "markdown",
   "metadata": {},
   "source": [
    "We will then make sure we imported the data correctly by printing out the first 10 rows of the data, using the `head()` function."
   ]
  },
  {
   "cell_type": "code",
   "execution_count": 74,
   "metadata": {},
   "outputs": [
    {
     "data": {
      "text/html": [
       "<div>\n",
       "<style scoped>\n",
       "    .dataframe tbody tr th:only-of-type {\n",
       "        vertical-align: middle;\n",
       "    }\n",
       "\n",
       "    .dataframe tbody tr th {\n",
       "        vertical-align: top;\n",
       "    }\n",
       "\n",
       "    .dataframe thead th {\n",
       "        text-align: right;\n",
       "    }\n",
       "</style>\n",
       "<table border=\"1\" class=\"dataframe\">\n",
       "  <thead>\n",
       "    <tr style=\"text-align: right;\">\n",
       "      <th></th>\n",
       "      <th>cookie</th>\n",
       "      <th>ingredients</th>\n",
       "      <th>calories</th>\n",
       "      <th>radius</th>\n",
       "      <th>cost_to_make</th>\n",
       "    </tr>\n",
       "  </thead>\n",
       "  <tbody>\n",
       "    <tr>\n",
       "      <th>0</th>\n",
       "      <td>laddoo lemon</td>\n",
       "      <td>[\"flour\",\"lemon juice\",\"sugar\",\"ghee\"]</td>\n",
       "      <td>170</td>\n",
       "      <td>3.102</td>\n",
       "      <td>0.67</td>\n",
       "    </tr>\n",
       "    <tr>\n",
       "      <th>1</th>\n",
       "      <td>red velvet rauw</td>\n",
       "      <td>[\"flour\",\"cocoa powder\",\"butter\",\"red food col...</td>\n",
       "      <td>198</td>\n",
       "      <td>3.780</td>\n",
       "      <td>1.07</td>\n",
       "    </tr>\n",
       "    <tr>\n",
       "      <th>2</th>\n",
       "      <td>nevadito</td>\n",
       "      <td>[\"flour\",\"chocolate chips\",\"milk\",\"vanilla ext...</td>\n",
       "      <td>224</td>\n",
       "      <td>4.069</td>\n",
       "      <td>1.04</td>\n",
       "    </tr>\n",
       "    <tr>\n",
       "      <th>3</th>\n",
       "      <td>red velvet rauw</td>\n",
       "      <td>[\"flour\",\"cocoa powder\",\"butter\",\"red food col...</td>\n",
       "      <td>198</td>\n",
       "      <td>3.780</td>\n",
       "      <td>1.07</td>\n",
       "    </tr>\n",
       "    <tr>\n",
       "      <th>4</th>\n",
       "      <td>bad berry bunny</td>\n",
       "      <td>[\"flour\",\"blueberries\",\"sugar\",\"butter\"]</td>\n",
       "      <td>191</td>\n",
       "      <td>4.148</td>\n",
       "      <td>1.39</td>\n",
       "    </tr>\n",
       "    <tr>\n",
       "      <th>5</th>\n",
       "      <td>orange ozuna</td>\n",
       "      <td>[\"flour\",\"orange juice\",\"sugar\",\"vegetable oil\"]</td>\n",
       "      <td>162</td>\n",
       "      <td>3.241</td>\n",
       "      <td>1.15</td>\n",
       "    </tr>\n",
       "    <tr>\n",
       "      <th>6</th>\n",
       "      <td>minty miami</td>\n",
       "      <td>[\"flour\",\"mint extract\",\"sugar\",\"butter\"]</td>\n",
       "      <td>204</td>\n",
       "      <td>3.964</td>\n",
       "      <td>0.84</td>\n",
       "    </tr>\n",
       "    <tr>\n",
       "      <th>7</th>\n",
       "      <td>chocolate</td>\n",
       "      <td>[\"flour\",\"chocolate chips\",\"sugar\",\"butter\"]</td>\n",
       "      <td>243</td>\n",
       "      <td>3.684</td>\n",
       "      <td>1.17</td>\n",
       "    </tr>\n",
       "    <tr>\n",
       "      <th>8</th>\n",
       "      <td>laddoo lemon</td>\n",
       "      <td>[\"flour\",\"lemon juice\",\"sugar\",\"ghee\"]</td>\n",
       "      <td>178</td>\n",
       "      <td>3.989</td>\n",
       "      <td>NaN</td>\n",
       "    </tr>\n",
       "    <tr>\n",
       "      <th>9</th>\n",
       "      <td>minty miami</td>\n",
       "      <td>[\"flour\",\"mint extract\",\"sugar\",\"butter\"]</td>\n",
       "      <td>184</td>\n",
       "      <td>3.743</td>\n",
       "      <td>0.74</td>\n",
       "    </tr>\n",
       "  </tbody>\n",
       "</table>\n",
       "</div>"
      ],
      "text/plain": [
       "            cookie                                        ingredients  \\\n",
       "0     laddoo lemon             [\"flour\",\"lemon juice\",\"sugar\",\"ghee\"]   \n",
       "1  red velvet rauw  [\"flour\",\"cocoa powder\",\"butter\",\"red food col...   \n",
       "2         nevadito  [\"flour\",\"chocolate chips\",\"milk\",\"vanilla ext...   \n",
       "3  red velvet rauw  [\"flour\",\"cocoa powder\",\"butter\",\"red food col...   \n",
       "4  bad berry bunny           [\"flour\",\"blueberries\",\"sugar\",\"butter\"]   \n",
       "5     orange ozuna   [\"flour\",\"orange juice\",\"sugar\",\"vegetable oil\"]   \n",
       "6      minty miami          [\"flour\",\"mint extract\",\"sugar\",\"butter\"]   \n",
       "7        chocolate       [\"flour\",\"chocolate chips\",\"sugar\",\"butter\"]   \n",
       "8     laddoo lemon             [\"flour\",\"lemon juice\",\"sugar\",\"ghee\"]   \n",
       "9      minty miami          [\"flour\",\"mint extract\",\"sugar\",\"butter\"]   \n",
       "\n",
       "   calories  radius  cost_to_make  \n",
       "0       170   3.102          0.67  \n",
       "1       198   3.780          1.07  \n",
       "2       224   4.069          1.04  \n",
       "3       198   3.780          1.07  \n",
       "4       191   4.148          1.39  \n",
       "5       162   3.241          1.15  \n",
       "6       204   3.964          0.84  \n",
       "7       243   3.684          1.17  \n",
       "8       178   3.989           NaN  \n",
       "9       184   3.743          0.74  "
      ]
     },
     "execution_count": 74,
     "metadata": {},
     "output_type": "execute_result"
    }
   ],
   "source": [
    "cookies.head(10)"
   ]
  },
  {
   "attachments": {},
   "cell_type": "markdown",
   "metadata": {},
   "source": [
    "### Checking data types\n",
    "You can check the data types of each column using the `dtypes` attribute of the DataFrame."
   ]
  },
  {
   "cell_type": "code",
   "execution_count": 75,
   "metadata": {},
   "outputs": [
    {
     "data": {
      "text/plain": [
       "cookie           object\n",
       "ingredients      object\n",
       "calories          int64\n",
       "radius          float64\n",
       "cost_to_make    float64\n",
       "dtype: object"
      ]
     },
     "execution_count": 75,
     "metadata": {},
     "output_type": "execute_result"
    }
   ],
   "source": [
    "cookies.dtypes"
   ]
  },
  {
   "cell_type": "markdown",
   "metadata": {},
   "source": [
    "Now, lets use use `info()` function to get more information about the Dataframe"
   ]
  },
  {
   "cell_type": "code",
   "execution_count": 76,
   "metadata": {},
   "outputs": [
    {
     "name": "stdout",
     "output_type": "stream",
     "text": [
      "<class 'pandas.core.frame.DataFrame'>\n",
      "RangeIndex: 129 entries, 0 to 128\n",
      "Data columns (total 5 columns):\n",
      " #   Column        Non-Null Count  Dtype  \n",
      "---  ------        --------------  -----  \n",
      " 0   cookie        129 non-null    object \n",
      " 1   ingredients   129 non-null    object \n",
      " 2   calories      129 non-null    int64  \n",
      " 3   radius        129 non-null    float64\n",
      " 4   cost_to_make  114 non-null    float64\n",
      "dtypes: float64(2), int64(1), object(2)\n",
      "memory usage: 5.2+ KB\n"
     ]
    }
   ],
   "source": [
    "cookies.info()\n"
   ]
  },
  {
   "attachments": {},
   "cell_type": "markdown",
   "metadata": {},
   "source": [
    "### Cleaning the data\n",
    "Now that we have the data, we need to clean it. For example, some `cost_to_make` fields of some created cookies are missing. To resolve this, we can do many things: we can replace the missing data with the mean of the column, or we can get rid of the row entirely if the `cost_to_make` field is not set. "
   ]
  },
  {
   "cell_type": "code",
   "execution_count": 77,
   "metadata": {},
   "outputs": [
    {
     "data": {
      "text/html": [
       "<div>\n",
       "<style scoped>\n",
       "    .dataframe tbody tr th:only-of-type {\n",
       "        vertical-align: middle;\n",
       "    }\n",
       "\n",
       "    .dataframe tbody tr th {\n",
       "        vertical-align: top;\n",
       "    }\n",
       "\n",
       "    .dataframe thead th {\n",
       "        text-align: right;\n",
       "    }\n",
       "</style>\n",
       "<table border=\"1\" class=\"dataframe\">\n",
       "  <thead>\n",
       "    <tr style=\"text-align: right;\">\n",
       "      <th></th>\n",
       "      <th>cookie</th>\n",
       "      <th>ingredients</th>\n",
       "      <th>calories</th>\n",
       "      <th>radius</th>\n",
       "      <th>cost_to_make</th>\n",
       "    </tr>\n",
       "  </thead>\n",
       "  <tbody>\n",
       "    <tr>\n",
       "      <th>0</th>\n",
       "      <td>laddoo lemon</td>\n",
       "      <td>[\"flour\",\"lemon juice\",\"sugar\",\"ghee\"]</td>\n",
       "      <td>170</td>\n",
       "      <td>3.102</td>\n",
       "      <td>0.67</td>\n",
       "    </tr>\n",
       "    <tr>\n",
       "      <th>1</th>\n",
       "      <td>red velvet rauw</td>\n",
       "      <td>[\"flour\",\"cocoa powder\",\"butter\",\"red food col...</td>\n",
       "      <td>198</td>\n",
       "      <td>3.780</td>\n",
       "      <td>1.07</td>\n",
       "    </tr>\n",
       "    <tr>\n",
       "      <th>2</th>\n",
       "      <td>nevadito</td>\n",
       "      <td>[\"flour\",\"chocolate chips\",\"milk\",\"vanilla ext...</td>\n",
       "      <td>224</td>\n",
       "      <td>4.069</td>\n",
       "      <td>1.04</td>\n",
       "    </tr>\n",
       "    <tr>\n",
       "      <th>3</th>\n",
       "      <td>red velvet rauw</td>\n",
       "      <td>[\"flour\",\"cocoa powder\",\"butter\",\"red food col...</td>\n",
       "      <td>198</td>\n",
       "      <td>3.780</td>\n",
       "      <td>1.07</td>\n",
       "    </tr>\n",
       "    <tr>\n",
       "      <th>4</th>\n",
       "      <td>bad berry bunny</td>\n",
       "      <td>[\"flour\",\"blueberries\",\"sugar\",\"butter\"]</td>\n",
       "      <td>191</td>\n",
       "      <td>4.148</td>\n",
       "      <td>1.39</td>\n",
       "    </tr>\n",
       "    <tr>\n",
       "      <th>5</th>\n",
       "      <td>orange ozuna</td>\n",
       "      <td>[\"flour\",\"orange juice\",\"sugar\",\"vegetable oil\"]</td>\n",
       "      <td>162</td>\n",
       "      <td>3.241</td>\n",
       "      <td>1.15</td>\n",
       "    </tr>\n",
       "    <tr>\n",
       "      <th>6</th>\n",
       "      <td>minty miami</td>\n",
       "      <td>[\"flour\",\"mint extract\",\"sugar\",\"butter\"]</td>\n",
       "      <td>204</td>\n",
       "      <td>3.964</td>\n",
       "      <td>0.84</td>\n",
       "    </tr>\n",
       "    <tr>\n",
       "      <th>7</th>\n",
       "      <td>chocolate</td>\n",
       "      <td>[\"flour\",\"chocolate chips\",\"sugar\",\"butter\"]</td>\n",
       "      <td>243</td>\n",
       "      <td>3.684</td>\n",
       "      <td>1.17</td>\n",
       "    </tr>\n",
       "    <tr>\n",
       "      <th>9</th>\n",
       "      <td>minty miami</td>\n",
       "      <td>[\"flour\",\"mint extract\",\"sugar\",\"butter\"]</td>\n",
       "      <td>184</td>\n",
       "      <td>3.743</td>\n",
       "      <td>0.74</td>\n",
       "    </tr>\n",
       "    <tr>\n",
       "      <th>10</th>\n",
       "      <td>nevadito</td>\n",
       "      <td>[\"flour\",\"chocolate chips\",\"milk\",\"vanilla ext...</td>\n",
       "      <td>216</td>\n",
       "      <td>3.848</td>\n",
       "      <td>1.28</td>\n",
       "    </tr>\n",
       "  </tbody>\n",
       "</table>\n",
       "</div>"
      ],
      "text/plain": [
       "             cookie                                        ingredients  \\\n",
       "0      laddoo lemon             [\"flour\",\"lemon juice\",\"sugar\",\"ghee\"]   \n",
       "1   red velvet rauw  [\"flour\",\"cocoa powder\",\"butter\",\"red food col...   \n",
       "2          nevadito  [\"flour\",\"chocolate chips\",\"milk\",\"vanilla ext...   \n",
       "3   red velvet rauw  [\"flour\",\"cocoa powder\",\"butter\",\"red food col...   \n",
       "4   bad berry bunny           [\"flour\",\"blueberries\",\"sugar\",\"butter\"]   \n",
       "5      orange ozuna   [\"flour\",\"orange juice\",\"sugar\",\"vegetable oil\"]   \n",
       "6       minty miami          [\"flour\",\"mint extract\",\"sugar\",\"butter\"]   \n",
       "7         chocolate       [\"flour\",\"chocolate chips\",\"sugar\",\"butter\"]   \n",
       "9       minty miami          [\"flour\",\"mint extract\",\"sugar\",\"butter\"]   \n",
       "10         nevadito  [\"flour\",\"chocolate chips\",\"milk\",\"vanilla ext...   \n",
       "\n",
       "    calories  radius  cost_to_make  \n",
       "0        170   3.102          0.67  \n",
       "1        198   3.780          1.07  \n",
       "2        224   4.069          1.04  \n",
       "3        198   3.780          1.07  \n",
       "4        191   4.148          1.39  \n",
       "5        162   3.241          1.15  \n",
       "6        204   3.964          0.84  \n",
       "7        243   3.684          1.17  \n",
       "9        184   3.743          0.74  \n",
       "10       216   3.848          1.28  "
      ]
     },
     "execution_count": 77,
     "metadata": {},
     "output_type": "execute_result"
    }
   ],
   "source": [
    "#TODO: clean the dataframe and \n",
    "# print the head again to make sure \n",
    "# the changes took effect\n",
    "cookies.dropna(subset=['cost_to_make'], inplace=True)\n",
    "cookies.head(10)"
   ]
  },
  {
   "attachments": {},
   "cell_type": "markdown",
   "metadata": {},
   "source": [
    "To also make sure we removed null values, we can check the number of null values in each column using the `isnull()` function."
   ]
  },
  {
   "cell_type": "code",
   "execution_count": 78,
   "metadata": {},
   "outputs": [
    {
     "data": {
      "text/plain": [
       "cookie          0\n",
       "ingredients     0\n",
       "calories        0\n",
       "radius          0\n",
       "cost_to_make    0\n",
       "dtype: int64"
      ]
     },
     "execution_count": 78,
     "metadata": {},
     "output_type": "execute_result"
    }
   ],
   "source": [
    "#TODO: use the isnull method to make sure your data is clean\n",
    "cookies.isnull().sum()"
   ]
  },
  {
   "cell_type": "markdown",
   "metadata": {},
   "source": [
    "Next, lets check for duplicate rows using the `duplicated()` function. Then, remove those rows using `drop_duplicates()` function."
   ]
  },
  {
   "cell_type": "code",
   "execution_count": 81,
   "metadata": {},
   "outputs": [
    {
     "data": {
      "text/html": [
       "<div>\n",
       "<style scoped>\n",
       "    .dataframe tbody tr th:only-of-type {\n",
       "        vertical-align: middle;\n",
       "    }\n",
       "\n",
       "    .dataframe tbody tr th {\n",
       "        vertical-align: top;\n",
       "    }\n",
       "\n",
       "    .dataframe thead th {\n",
       "        text-align: right;\n",
       "    }\n",
       "</style>\n",
       "<table border=\"1\" class=\"dataframe\">\n",
       "  <thead>\n",
       "    <tr style=\"text-align: right;\">\n",
       "      <th></th>\n",
       "      <th>cookie</th>\n",
       "      <th>ingredients</th>\n",
       "      <th>calories</th>\n",
       "      <th>radius</th>\n",
       "      <th>cost_to_make</th>\n",
       "    </tr>\n",
       "  </thead>\n",
       "  <tbody>\n",
       "    <tr>\n",
       "      <th>0</th>\n",
       "      <td>laddoo lemon</td>\n",
       "      <td>[\"flour\",\"lemon juice\",\"sugar\",\"ghee\"]</td>\n",
       "      <td>170</td>\n",
       "      <td>3.102</td>\n",
       "      <td>0.67</td>\n",
       "    </tr>\n",
       "    <tr>\n",
       "      <th>1</th>\n",
       "      <td>red velvet rauw</td>\n",
       "      <td>[\"flour\",\"cocoa powder\",\"butter\",\"red food col...</td>\n",
       "      <td>198</td>\n",
       "      <td>3.780</td>\n",
       "      <td>1.07</td>\n",
       "    </tr>\n",
       "    <tr>\n",
       "      <th>2</th>\n",
       "      <td>nevadito</td>\n",
       "      <td>[\"flour\",\"chocolate chips\",\"milk\",\"vanilla ext...</td>\n",
       "      <td>224</td>\n",
       "      <td>4.069</td>\n",
       "      <td>1.04</td>\n",
       "    </tr>\n",
       "    <tr>\n",
       "      <th>4</th>\n",
       "      <td>bad berry bunny</td>\n",
       "      <td>[\"flour\",\"blueberries\",\"sugar\",\"butter\"]</td>\n",
       "      <td>191</td>\n",
       "      <td>4.148</td>\n",
       "      <td>1.39</td>\n",
       "    </tr>\n",
       "    <tr>\n",
       "      <th>5</th>\n",
       "      <td>orange ozuna</td>\n",
       "      <td>[\"flour\",\"orange juice\",\"sugar\",\"vegetable oil\"]</td>\n",
       "      <td>162</td>\n",
       "      <td>3.241</td>\n",
       "      <td>1.15</td>\n",
       "    </tr>\n",
       "    <tr>\n",
       "      <th>...</th>\n",
       "      <td>...</td>\n",
       "      <td>...</td>\n",
       "      <td>...</td>\n",
       "      <td>...</td>\n",
       "      <td>...</td>\n",
       "    </tr>\n",
       "    <tr>\n",
       "      <th>121</th>\n",
       "      <td>chocolate</td>\n",
       "      <td>[\"flour\",\"chocolate chips\",\"sugar\",\"butter\"]</td>\n",
       "      <td>227</td>\n",
       "      <td>4.085</td>\n",
       "      <td>1.42</td>\n",
       "    </tr>\n",
       "    <tr>\n",
       "      <th>122</th>\n",
       "      <td>laddoo lemon</td>\n",
       "      <td>[\"flour\",\"lemon juice\",\"sugar\",\"ghee\"]</td>\n",
       "      <td>170</td>\n",
       "      <td>3.916</td>\n",
       "      <td>2.00</td>\n",
       "    </tr>\n",
       "    <tr>\n",
       "      <th>125</th>\n",
       "      <td>nevadito</td>\n",
       "      <td>[\"flour\",\"chocolate chips\",\"milk\",\"vanilla ext...</td>\n",
       "      <td>211</td>\n",
       "      <td>3.915</td>\n",
       "      <td>1.61</td>\n",
       "    </tr>\n",
       "    <tr>\n",
       "      <th>126</th>\n",
       "      <td>red velvet rauw</td>\n",
       "      <td>[\"flour\",\"cocoa powder\",\"butter\",\"red food col...</td>\n",
       "      <td>197</td>\n",
       "      <td>3.906</td>\n",
       "      <td>1.33</td>\n",
       "    </tr>\n",
       "    <tr>\n",
       "      <th>127</th>\n",
       "      <td>bad berry bunny</td>\n",
       "      <td>[\"flour\",\"blueberries\",\"sugar\",\"butter\"]</td>\n",
       "      <td>199</td>\n",
       "      <td>4.281</td>\n",
       "      <td>1.36</td>\n",
       "    </tr>\n",
       "  </tbody>\n",
       "</table>\n",
       "<p>103 rows × 5 columns</p>\n",
       "</div>"
      ],
      "text/plain": [
       "              cookie                                        ingredients  \\\n",
       "0       laddoo lemon             [\"flour\",\"lemon juice\",\"sugar\",\"ghee\"]   \n",
       "1    red velvet rauw  [\"flour\",\"cocoa powder\",\"butter\",\"red food col...   \n",
       "2           nevadito  [\"flour\",\"chocolate chips\",\"milk\",\"vanilla ext...   \n",
       "4    bad berry bunny           [\"flour\",\"blueberries\",\"sugar\",\"butter\"]   \n",
       "5       orange ozuna   [\"flour\",\"orange juice\",\"sugar\",\"vegetable oil\"]   \n",
       "..               ...                                                ...   \n",
       "121        chocolate       [\"flour\",\"chocolate chips\",\"sugar\",\"butter\"]   \n",
       "122     laddoo lemon             [\"flour\",\"lemon juice\",\"sugar\",\"ghee\"]   \n",
       "125         nevadito  [\"flour\",\"chocolate chips\",\"milk\",\"vanilla ext...   \n",
       "126  red velvet rauw  [\"flour\",\"cocoa powder\",\"butter\",\"red food col...   \n",
       "127  bad berry bunny           [\"flour\",\"blueberries\",\"sugar\",\"butter\"]   \n",
       "\n",
       "     calories  radius  cost_to_make  \n",
       "0         170   3.102          0.67  \n",
       "1         198   3.780          1.07  \n",
       "2         224   4.069          1.04  \n",
       "4         191   4.148          1.39  \n",
       "5         162   3.241          1.15  \n",
       "..        ...     ...           ...  \n",
       "121       227   4.085          1.42  \n",
       "122       170   3.916          2.00  \n",
       "125       211   3.915          1.61  \n",
       "126       197   3.906          1.33  \n",
       "127       199   4.281          1.36  \n",
       "\n",
       "[103 rows x 5 columns]"
      ]
     },
     "execution_count": 81,
     "metadata": {},
     "output_type": "execute_result"
    }
   ],
   "source": [
    "# TODO: check for duplicate rows\n",
    "# then delete those rows form df\n",
    "cookies.duplicated()\n",
    "cookies.drop_duplicates()\n"
   ]
  },
  {
   "attachments": {},
   "cell_type": "markdown",
   "metadata": {},
   "source": [
    "### Parsing the data\n",
    "Now that we have the data, we could parse it to get the information we want. For example, we can check what types of cookies were made by using the `unique()` function on the `cookie` column."
   ]
  },
  {
   "cell_type": "code",
   "execution_count": 82,
   "metadata": {},
   "outputs": [
    {
     "name": "stdout",
     "output_type": "stream",
     "text": [
      "              cookie                                        ingredients  \\\n",
      "0       laddoo lemon             [\"flour\",\"lemon juice\",\"sugar\",\"ghee\"]   \n",
      "1    red velvet rauw  [\"flour\",\"cocoa powder\",\"butter\",\"red food col...   \n",
      "2           nevadito  [\"flour\",\"chocolate chips\",\"milk\",\"vanilla ext...   \n",
      "3    red velvet rauw  [\"flour\",\"cocoa powder\",\"butter\",\"red food col...   \n",
      "4    bad berry bunny           [\"flour\",\"blueberries\",\"sugar\",\"butter\"]   \n",
      "..               ...                                                ...   \n",
      "124      minty miami          [\"flour\",\"mint extract\",\"sugar\",\"butter\"]   \n",
      "125         nevadito  [\"flour\",\"chocolate chips\",\"milk\",\"vanilla ext...   \n",
      "126  red velvet rauw  [\"flour\",\"cocoa powder\",\"butter\",\"red food col...   \n",
      "127  bad berry bunny           [\"flour\",\"blueberries\",\"sugar\",\"butter\"]   \n",
      "128        chocolate       [\"flour\",\"chocolate chips\",\"sugar\",\"butter\"]   \n",
      "\n",
      "     calories  radius  cost_to_make  \n",
      "0         170   3.102          0.67  \n",
      "1         198   3.780          1.07  \n",
      "2         224   4.069          1.04  \n",
      "3         198   3.780          1.07  \n",
      "4         191   4.148          1.39  \n",
      "..        ...     ...           ...  \n",
      "124       204   3.964          0.84  \n",
      "125       211   3.915          1.61  \n",
      "126       197   3.906          1.33  \n",
      "127       199   4.281          1.36  \n",
      "128       209   3.182          1.53  \n",
      "\n",
      "[114 rows x 5 columns]\n"
     ]
    }
   ],
   "source": [
    "#TODO: see what cookies are in the dataset\n",
    "cookies.cookie.unique()\n",
    "\n",
    "# Display the unique cookies\n",
    "print(cookies)"
   ]
  },
  {
   "attachments": {},
   "cell_type": "markdown",
   "metadata": {},
   "source": [
    "We can also check the number of cookies made by using the `value_counts()` function on the `cookie` column."
   ]
  },
  {
   "cell_type": "code",
   "execution_count": 83,
   "metadata": {},
   "outputs": [
    {
     "data": {
      "text/plain": [
       "cookie\n",
       "red velvet rauw    20\n",
       "orange ozuna       19\n",
       "minty miami        19\n",
       "nevadito           15\n",
       "bad berry bunny    15\n",
       "laddoo lemon       13\n",
       "chocolate          13\n",
       "Name: count, dtype: int64"
      ]
     },
     "execution_count": 83,
     "metadata": {},
     "output_type": "execute_result"
    }
   ],
   "source": [
    "#TODO: use value_counts() to see how many \n",
    "# cookies of each type there are\n",
    "cookies.cookie.value_counts()\n"
   ]
  },
  {
   "attachments": {},
   "cell_type": "markdown",
   "metadata": {},
   "source": [
    "Or maybe we don't like how long the names of the cookies are, so we can shorten them by using the `replace()` function on the `cookie` column.\n",
    "\n",
    "For example, let's try changing `\"bad berry bunny\"` to `\"bbb\"`."
   ]
  },
  {
   "cell_type": "code",
   "execution_count": 84,
   "metadata": {},
   "outputs": [
    {
     "data": {
      "text/plain": [
       "0         laddoo lemon\n",
       "1      red velvet rauw\n",
       "2             nevadito\n",
       "3      red velvet rauw\n",
       "4                  bbb\n",
       "            ...       \n",
       "124        minty miami\n",
       "125           nevadito\n",
       "126    red velvet rauw\n",
       "127                bbb\n",
       "128          chocolate\n",
       "Name: cookie, Length: 114, dtype: object"
      ]
     },
     "execution_count": 84,
     "metadata": {},
     "output_type": "execute_result"
    }
   ],
   "source": [
    "#TODO: change bad berry bunny data elements to \"bbb\"\n",
    "cookies.cookie.replace(\"bad berry bunny\", \"bbb\")"
   ]
  },
  {
   "attachments": {},
   "cell_type": "markdown",
   "metadata": {},
   "source": [
    "We may even like the original names better, but we may want to get rid of the spaces. For example, we can change `\"orange ozuna\"` to `\"orange_ozuna\"`. Here, we will use the `str.replace()` function."
   ]
  },
  {
   "cell_type": "code",
   "execution_count": 85,
   "metadata": {},
   "outputs": [
    {
     "data": {
      "text/plain": [
       "0         laddoo lemon\n",
       "1      red velvet rauw\n",
       "2             nevadito\n",
       "3      red velvet rauw\n",
       "4      bad berry bunny\n",
       "            ...       \n",
       "124        minty miami\n",
       "125           nevadito\n",
       "126    red velvet rauw\n",
       "127    bad berry bunny\n",
       "128          chocolate\n",
       "Name: cookie, Length: 114, dtype: object"
      ]
     },
     "execution_count": 85,
     "metadata": {},
     "output_type": "execute_result"
    }
   ],
   "source": [
    "#TODO: adjust orange ozuna as described\n",
    "cookies[\"cookie\"].str.replace(\"orange ozuna\", \"orange_ozuna\")"
   ]
  },
  {
   "attachments": {},
   "cell_type": "markdown",
   "metadata": {},
   "source": [
    "We may even just want to keep the first word of the cookie name. For example, we can change `\"orange_ozuna\"` to `\"orange\"`."
   ]
  },
  {
   "cell_type": "code",
   "execution_count": null,
   "metadata": {},
   "outputs": [],
   "source": [
    "#TODO: adjust all cookies so only the first word\n",
    "# is used as the cookie name"
   ]
  },
  {
   "attachments": {},
   "cell_type": "markdown",
   "metadata": {},
   "source": [
    "Another thing that may come to mind is that maybe getting flour could cost more money due to inflation, so we have to adjust our `cost_to_make` values. We can do this by using the `apply()` function on the `cost_to_make` column."
   ]
  },
  {
   "cell_type": "code",
   "execution_count": null,
   "metadata": {},
   "outputs": [],
   "source": [
    "#Don't edit this method\n",
    "def adjust_cost(cost):\n",
    "    return cost + 0.5\n",
    "\n",
    "#TODO: use apply() to adjust the cost_to_make column."
   ]
  },
  {
   "attachments": {},
   "cell_type": "markdown",
   "metadata": {},
   "source": [
    "And we can do a lot more things! We will see these concepts be used in the next homework assignment, along with a couple new ones to show you how powerful Pandas is."
   ]
  },
  {
   "attachments": {},
   "cell_type": "markdown",
   "metadata": {},
   "source": [
    "### More complicated operations: Grouping, Filtering, Aggregating"
   ]
  },
  {
   "cell_type": "markdown",
   "metadata": {},
   "source": [
    "Before trying out these complicated operations, lets first sort the sort the df by the radius of the cookies using the `sort_values()` function."
   ]
  },
  {
   "cell_type": "code",
   "execution_count": null,
   "metadata": {},
   "outputs": [],
   "source": [
    "# TODO: sort the df using sort_values(by='Column', ascending=False)"
   ]
  },
  {
   "attachments": {},
   "cell_type": "markdown",
   "metadata": {},
   "source": [
    "We may also want to group data by certain attributes. This can be done by using `groupby()`. This method takes in a column name, and groups the data by the values in that column. For example, we can group the data by the `cookie` column."
   ]
  },
  {
   "cell_type": "code",
   "execution_count": null,
   "metadata": {},
   "outputs": [],
   "source": [
    "#TODO: group by cookie type"
   ]
  },
  {
   "attachments": {},
   "cell_type": "markdown",
   "metadata": {},
   "source": [
    "We can also group by multiple columns. For example, we can group the data by the `cookie` and `ingredients` columns."
   ]
  },
  {
   "cell_type": "code",
   "execution_count": null,
   "metadata": {},
   "outputs": [],
   "source": [
    "#TODO: group by cookie type and ingredients"
   ]
  },
  {
   "attachments": {},
   "cell_type": "markdown",
   "metadata": {},
   "source": [
    "We may also want to filter the data. For example, we can filter the data to only show the cookies that have a radius greater than 4.3 cm. We can do this by indexing the DataFrame with a boolean expression."
   ]
  },
  {
   "cell_type": "code",
   "execution_count": null,
   "metadata": {},
   "outputs": [],
   "source": [
    "#TODO: filter using the boolean expression"
   ]
  },
  {
   "attachments": {},
   "cell_type": "markdown",
   "metadata": {},
   "source": [
    "We may even want to use `groupby()` and filter idea together! For example, we can filter the data to only show the cookies that have a radius greater than 4.3 cm, and group the data by the `cookie` column."
   ]
  },
  {
   "cell_type": "code",
   "execution_count": null,
   "metadata": {},
   "outputs": [],
   "source": [
    "#TODO: filter the data using the boolean expression\n",
    "# then group by cookie column"
   ]
  },
  {
   "attachments": {},
   "cell_type": "markdown",
   "metadata": {},
   "source": [
    "We may also want to aggregate the data. For example, we can aggregate the data by looking at the ratio of calories to radius. We can do this by using indexing and the `apply()` function."
   ]
  },
  {
   "cell_type": "code",
   "execution_count": null,
   "metadata": {},
   "outputs": [],
   "source": [
    "#TODO: add a column to the dataframe that is the\n",
    "# calories per radius"
   ]
  },
  {
   "attachments": {},
   "cell_type": "markdown",
   "metadata": {},
   "source": [
    "Or we can just get rid of this column if we find it useless. We can do this by using the `drop()` function or indexing."
   ]
  },
  {
   "cell_type": "code",
   "execution_count": null,
   "metadata": {},
   "outputs": [],
   "source": [
    "#TODO: drop the created column"
   ]
  },
  {
   "attachments": {},
   "cell_type": "markdown",
   "metadata": {},
   "source": [
    "### Visualizing the data"
   ]
  },
  {
   "attachments": {},
   "cell_type": "markdown",
   "metadata": {},
   "source": [
    "We can also visualize the data. For example, we can visualize the data by plotting the radius of the cookies against the cost to make the cookies. We can do this by using the `plot()` function."
   ]
  },
  {
   "cell_type": "code",
   "execution_count": null,
   "metadata": {},
   "outputs": [],
   "source": [
    "#TODO: plot the radius (x) versus cost to make (y)"
   ]
  },
  {
   "attachments": {},
   "cell_type": "markdown",
   "metadata": {},
   "source": [
    "We may even want to get more specific and visualize the shape of a distribution of the `laddoo lemon`'s radius by making a boxplot. We can also do this by using the `plot()` function."
   ]
  },
  {
   "cell_type": "code",
   "execution_count": null,
   "metadata": {},
   "outputs": [],
   "source": [
    "#TODO: add the described boxplot\n",
    "# remember that you changed the name from laddoo lemon to laddoo"
   ]
  },
  {
   "attachments": {},
   "cell_type": "markdown",
   "metadata": {},
   "source": [
    "Alternatively, we can create a histogram to visualize the distribution of the `laddoo lemon`'s radius. We can also do this by using the `plot()` function."
   ]
  },
  {
   "cell_type": "code",
   "execution_count": null,
   "metadata": {},
   "outputs": [],
   "source": [
    "#TODO: add the described histogram"
   ]
  },
  {
   "attachments": {},
   "cell_type": "markdown",
   "metadata": {},
   "source": [
    "Things can get more complicated too. Maybe we want to analyze the behaviors of `bad berry bunny` and `laddoo lemon`'s radius using a boxplot. But this time, let's try it using the alternative `boxplot()` function. For practice, try doing it with `plot()` too!"
   ]
  },
  {
   "cell_type": "code",
   "execution_count": null,
   "metadata": {},
   "outputs": [],
   "source": [
    "#TODO: analyze the two cookie's radius in a boxplot"
   ]
  },
  {
   "attachments": {},
   "cell_type": "markdown",
   "metadata": {},
   "source": [
    "### Practice Problems\n",
    "Now that you have learned some of Pandas' capabilities, let's try some practice problems! **This is the part that will be checked when you submit it!**"
   ]
  },
  {
   "attachments": {},
   "cell_type": "markdown",
   "metadata": {},
   "source": [
    "#### Problem 1\n",
    "How many cookies were made? (Hint: use the `shape` attribute)"
   ]
  },
  {
   "cell_type": "code",
   "execution_count": 86,
   "metadata": {},
   "outputs": [
    {
     "data": {
      "text/plain": [
       "114"
      ]
     },
     "execution_count": 86,
     "metadata": {},
     "output_type": "execute_result"
    }
   ],
   "source": [
    "cookies.shape[0]"
   ]
  },
  {
   "attachments": {},
   "cell_type": "markdown",
   "metadata": {},
   "source": [
    "#### Problem 2\n",
    "Add a column to the DataFrame that has the value `True` if the cookie has a radius greater than 4 cm, and `False` otherwise. (Hint: use the `apply()` function)"
   ]
  },
  {
   "cell_type": "code",
   "execution_count": 87,
   "metadata": {},
   "outputs": [
    {
     "data": {
      "text/html": [
       "<div>\n",
       "<style scoped>\n",
       "    .dataframe tbody tr th:only-of-type {\n",
       "        vertical-align: middle;\n",
       "    }\n",
       "\n",
       "    .dataframe tbody tr th {\n",
       "        vertical-align: top;\n",
       "    }\n",
       "\n",
       "    .dataframe thead th {\n",
       "        text-align: right;\n",
       "    }\n",
       "</style>\n",
       "<table border=\"1\" class=\"dataframe\">\n",
       "  <thead>\n",
       "    <tr style=\"text-align: right;\">\n",
       "      <th></th>\n",
       "      <th>cookie</th>\n",
       "      <th>ingredients</th>\n",
       "      <th>calories</th>\n",
       "      <th>radius</th>\n",
       "      <th>cost_to_make</th>\n",
       "      <th>is_big_cookie</th>\n",
       "    </tr>\n",
       "  </thead>\n",
       "  <tbody>\n",
       "    <tr>\n",
       "      <th>0</th>\n",
       "      <td>laddoo lemon</td>\n",
       "      <td>[\"flour\",\"lemon juice\",\"sugar\",\"ghee\"]</td>\n",
       "      <td>170</td>\n",
       "      <td>3.102</td>\n",
       "      <td>0.67</td>\n",
       "      <td>False</td>\n",
       "    </tr>\n",
       "    <tr>\n",
       "      <th>1</th>\n",
       "      <td>red velvet rauw</td>\n",
       "      <td>[\"flour\",\"cocoa powder\",\"butter\",\"red food col...</td>\n",
       "      <td>198</td>\n",
       "      <td>3.780</td>\n",
       "      <td>1.07</td>\n",
       "      <td>False</td>\n",
       "    </tr>\n",
       "    <tr>\n",
       "      <th>2</th>\n",
       "      <td>nevadito</td>\n",
       "      <td>[\"flour\",\"chocolate chips\",\"milk\",\"vanilla ext...</td>\n",
       "      <td>224</td>\n",
       "      <td>4.069</td>\n",
       "      <td>1.04</td>\n",
       "      <td>True</td>\n",
       "    </tr>\n",
       "    <tr>\n",
       "      <th>3</th>\n",
       "      <td>red velvet rauw</td>\n",
       "      <td>[\"flour\",\"cocoa powder\",\"butter\",\"red food col...</td>\n",
       "      <td>198</td>\n",
       "      <td>3.780</td>\n",
       "      <td>1.07</td>\n",
       "      <td>False</td>\n",
       "    </tr>\n",
       "    <tr>\n",
       "      <th>4</th>\n",
       "      <td>bad berry bunny</td>\n",
       "      <td>[\"flour\",\"blueberries\",\"sugar\",\"butter\"]</td>\n",
       "      <td>191</td>\n",
       "      <td>4.148</td>\n",
       "      <td>1.39</td>\n",
       "      <td>True</td>\n",
       "    </tr>\n",
       "    <tr>\n",
       "      <th>5</th>\n",
       "      <td>orange ozuna</td>\n",
       "      <td>[\"flour\",\"orange juice\",\"sugar\",\"vegetable oil\"]</td>\n",
       "      <td>162</td>\n",
       "      <td>3.241</td>\n",
       "      <td>1.15</td>\n",
       "      <td>False</td>\n",
       "    </tr>\n",
       "    <tr>\n",
       "      <th>6</th>\n",
       "      <td>minty miami</td>\n",
       "      <td>[\"flour\",\"mint extract\",\"sugar\",\"butter\"]</td>\n",
       "      <td>204</td>\n",
       "      <td>3.964</td>\n",
       "      <td>0.84</td>\n",
       "      <td>False</td>\n",
       "    </tr>\n",
       "    <tr>\n",
       "      <th>7</th>\n",
       "      <td>chocolate</td>\n",
       "      <td>[\"flour\",\"chocolate chips\",\"sugar\",\"butter\"]</td>\n",
       "      <td>243</td>\n",
       "      <td>3.684</td>\n",
       "      <td>1.17</td>\n",
       "      <td>False</td>\n",
       "    </tr>\n",
       "    <tr>\n",
       "      <th>9</th>\n",
       "      <td>minty miami</td>\n",
       "      <td>[\"flour\",\"mint extract\",\"sugar\",\"butter\"]</td>\n",
       "      <td>184</td>\n",
       "      <td>3.743</td>\n",
       "      <td>0.74</td>\n",
       "      <td>False</td>\n",
       "    </tr>\n",
       "    <tr>\n",
       "      <th>10</th>\n",
       "      <td>nevadito</td>\n",
       "      <td>[\"flour\",\"chocolate chips\",\"milk\",\"vanilla ext...</td>\n",
       "      <td>216</td>\n",
       "      <td>3.848</td>\n",
       "      <td>1.28</td>\n",
       "      <td>False</td>\n",
       "    </tr>\n",
       "  </tbody>\n",
       "</table>\n",
       "</div>"
      ],
      "text/plain": [
       "             cookie                                        ingredients  \\\n",
       "0      laddoo lemon             [\"flour\",\"lemon juice\",\"sugar\",\"ghee\"]   \n",
       "1   red velvet rauw  [\"flour\",\"cocoa powder\",\"butter\",\"red food col...   \n",
       "2          nevadito  [\"flour\",\"chocolate chips\",\"milk\",\"vanilla ext...   \n",
       "3   red velvet rauw  [\"flour\",\"cocoa powder\",\"butter\",\"red food col...   \n",
       "4   bad berry bunny           [\"flour\",\"blueberries\",\"sugar\",\"butter\"]   \n",
       "5      orange ozuna   [\"flour\",\"orange juice\",\"sugar\",\"vegetable oil\"]   \n",
       "6       minty miami          [\"flour\",\"mint extract\",\"sugar\",\"butter\"]   \n",
       "7         chocolate       [\"flour\",\"chocolate chips\",\"sugar\",\"butter\"]   \n",
       "9       minty miami          [\"flour\",\"mint extract\",\"sugar\",\"butter\"]   \n",
       "10         nevadito  [\"flour\",\"chocolate chips\",\"milk\",\"vanilla ext...   \n",
       "\n",
       "    calories  radius  cost_to_make  is_big_cookie  \n",
       "0        170   3.102          0.67          False  \n",
       "1        198   3.780          1.07          False  \n",
       "2        224   4.069          1.04           True  \n",
       "3        198   3.780          1.07          False  \n",
       "4        191   4.148          1.39           True  \n",
       "5        162   3.241          1.15          False  \n",
       "6        204   3.964          0.84          False  \n",
       "7        243   3.684          1.17          False  \n",
       "9        184   3.743          0.74          False  \n",
       "10       216   3.848          1.28          False  "
      ]
     },
     "execution_count": 87,
     "metadata": {},
     "output_type": "execute_result"
    }
   ],
   "source": [
    "cookies[\"is_big_cookie\"] = cookies.radius.apply(lambda x : True if x >4 else False)\n",
    "cookies.head(10)"
   ]
  },
  {
   "attachments": {},
   "cell_type": "markdown",
   "metadata": {},
   "source": [
    "#### Problem 3\n",
    "\n",
    "Group the data by the `cookie` column, and find the average radius of each cookie. (Hint: use the `groupby()` and `transform()` function). Add this column to the DataFrame."
   ]
  },
  {
   "cell_type": "code",
   "execution_count": 89,
   "metadata": {},
   "outputs": [
    {
     "data": {
      "text/html": [
       "<div>\n",
       "<style scoped>\n",
       "    .dataframe tbody tr th:only-of-type {\n",
       "        vertical-align: middle;\n",
       "    }\n",
       "\n",
       "    .dataframe tbody tr th {\n",
       "        vertical-align: top;\n",
       "    }\n",
       "\n",
       "    .dataframe thead th {\n",
       "        text-align: right;\n",
       "    }\n",
       "</style>\n",
       "<table border=\"1\" class=\"dataframe\">\n",
       "  <thead>\n",
       "    <tr style=\"text-align: right;\">\n",
       "      <th></th>\n",
       "      <th>cookie</th>\n",
       "      <th>ingredients</th>\n",
       "      <th>calories</th>\n",
       "      <th>radius</th>\n",
       "      <th>cost_to_make</th>\n",
       "      <th>is_big_cookie</th>\n",
       "      <th>avg_radius</th>\n",
       "    </tr>\n",
       "  </thead>\n",
       "  <tbody>\n",
       "    <tr>\n",
       "      <th>0</th>\n",
       "      <td>laddoo lemon</td>\n",
       "      <td>[\"flour\",\"lemon juice\",\"sugar\",\"ghee\"]</td>\n",
       "      <td>170</td>\n",
       "      <td>3.102</td>\n",
       "      <td>0.67</td>\n",
       "      <td>False</td>\n",
       "      <td>3.849000</td>\n",
       "    </tr>\n",
       "    <tr>\n",
       "      <th>1</th>\n",
       "      <td>red velvet rauw</td>\n",
       "      <td>[\"flour\",\"cocoa powder\",\"butter\",\"red food col...</td>\n",
       "      <td>198</td>\n",
       "      <td>3.780</td>\n",
       "      <td>1.07</td>\n",
       "      <td>False</td>\n",
       "      <td>4.057500</td>\n",
       "    </tr>\n",
       "    <tr>\n",
       "      <th>2</th>\n",
       "      <td>nevadito</td>\n",
       "      <td>[\"flour\",\"chocolate chips\",\"milk\",\"vanilla ext...</td>\n",
       "      <td>224</td>\n",
       "      <td>4.069</td>\n",
       "      <td>1.04</td>\n",
       "      <td>True</td>\n",
       "      <td>3.959000</td>\n",
       "    </tr>\n",
       "    <tr>\n",
       "      <th>3</th>\n",
       "      <td>red velvet rauw</td>\n",
       "      <td>[\"flour\",\"cocoa powder\",\"butter\",\"red food col...</td>\n",
       "      <td>198</td>\n",
       "      <td>3.780</td>\n",
       "      <td>1.07</td>\n",
       "      <td>False</td>\n",
       "      <td>4.057500</td>\n",
       "    </tr>\n",
       "    <tr>\n",
       "      <th>4</th>\n",
       "      <td>bad berry bunny</td>\n",
       "      <td>[\"flour\",\"blueberries\",\"sugar\",\"butter\"]</td>\n",
       "      <td>191</td>\n",
       "      <td>4.148</td>\n",
       "      <td>1.39</td>\n",
       "      <td>True</td>\n",
       "      <td>3.914867</td>\n",
       "    </tr>\n",
       "    <tr>\n",
       "      <th>5</th>\n",
       "      <td>orange ozuna</td>\n",
       "      <td>[\"flour\",\"orange juice\",\"sugar\",\"vegetable oil\"]</td>\n",
       "      <td>162</td>\n",
       "      <td>3.241</td>\n",
       "      <td>1.15</td>\n",
       "      <td>False</td>\n",
       "      <td>3.464263</td>\n",
       "    </tr>\n",
       "    <tr>\n",
       "      <th>6</th>\n",
       "      <td>minty miami</td>\n",
       "      <td>[\"flour\",\"mint extract\",\"sugar\",\"butter\"]</td>\n",
       "      <td>204</td>\n",
       "      <td>3.964</td>\n",
       "      <td>0.84</td>\n",
       "      <td>False</td>\n",
       "      <td>3.755368</td>\n",
       "    </tr>\n",
       "    <tr>\n",
       "      <th>7</th>\n",
       "      <td>chocolate</td>\n",
       "      <td>[\"flour\",\"chocolate chips\",\"sugar\",\"butter\"]</td>\n",
       "      <td>243</td>\n",
       "      <td>3.684</td>\n",
       "      <td>1.17</td>\n",
       "      <td>False</td>\n",
       "      <td>3.995077</td>\n",
       "    </tr>\n",
       "    <tr>\n",
       "      <th>9</th>\n",
       "      <td>minty miami</td>\n",
       "      <td>[\"flour\",\"mint extract\",\"sugar\",\"butter\"]</td>\n",
       "      <td>184</td>\n",
       "      <td>3.743</td>\n",
       "      <td>0.74</td>\n",
       "      <td>False</td>\n",
       "      <td>3.755368</td>\n",
       "    </tr>\n",
       "    <tr>\n",
       "      <th>10</th>\n",
       "      <td>nevadito</td>\n",
       "      <td>[\"flour\",\"chocolate chips\",\"milk\",\"vanilla ext...</td>\n",
       "      <td>216</td>\n",
       "      <td>3.848</td>\n",
       "      <td>1.28</td>\n",
       "      <td>False</td>\n",
       "      <td>3.959000</td>\n",
       "    </tr>\n",
       "  </tbody>\n",
       "</table>\n",
       "</div>"
      ],
      "text/plain": [
       "             cookie                                        ingredients  \\\n",
       "0      laddoo lemon             [\"flour\",\"lemon juice\",\"sugar\",\"ghee\"]   \n",
       "1   red velvet rauw  [\"flour\",\"cocoa powder\",\"butter\",\"red food col...   \n",
       "2          nevadito  [\"flour\",\"chocolate chips\",\"milk\",\"vanilla ext...   \n",
       "3   red velvet rauw  [\"flour\",\"cocoa powder\",\"butter\",\"red food col...   \n",
       "4   bad berry bunny           [\"flour\",\"blueberries\",\"sugar\",\"butter\"]   \n",
       "5      orange ozuna   [\"flour\",\"orange juice\",\"sugar\",\"vegetable oil\"]   \n",
       "6       minty miami          [\"flour\",\"mint extract\",\"sugar\",\"butter\"]   \n",
       "7         chocolate       [\"flour\",\"chocolate chips\",\"sugar\",\"butter\"]   \n",
       "9       minty miami          [\"flour\",\"mint extract\",\"sugar\",\"butter\"]   \n",
       "10         nevadito  [\"flour\",\"chocolate chips\",\"milk\",\"vanilla ext...   \n",
       "\n",
       "    calories  radius  cost_to_make  is_big_cookie  avg_radius  \n",
       "0        170   3.102          0.67          False    3.849000  \n",
       "1        198   3.780          1.07          False    4.057500  \n",
       "2        224   4.069          1.04           True    3.959000  \n",
       "3        198   3.780          1.07          False    4.057500  \n",
       "4        191   4.148          1.39           True    3.914867  \n",
       "5        162   3.241          1.15          False    3.464263  \n",
       "6        204   3.964          0.84          False    3.755368  \n",
       "7        243   3.684          1.17          False    3.995077  \n",
       "9        184   3.743          0.74          False    3.755368  \n",
       "10       216   3.848          1.28          False    3.959000  "
      ]
     },
     "execution_count": 89,
     "metadata": {},
     "output_type": "execute_result"
    }
   ],
   "source": [
    "cookies[\"avg_radius\"] = cookies.groupby(\"cookie\").radius.transform(\"mean\")\n",
    "cookies.head(10)"
   ]
  },
  {
   "attachments": {},
   "cell_type": "markdown",
   "metadata": {},
   "source": [
    "#### Problem 4\n",
    "Create a new DataFrame that only contains the cookies that have the ingredient `\"chocolate chips\"`. (Hint: use the `str.contains()` function)"
   ]
  },
  {
   "cell_type": "code",
   "execution_count": 90,
   "metadata": {},
   "outputs": [
    {
     "data": {
      "text/html": [
       "<div>\n",
       "<style scoped>\n",
       "    .dataframe tbody tr th:only-of-type {\n",
       "        vertical-align: middle;\n",
       "    }\n",
       "\n",
       "    .dataframe tbody tr th {\n",
       "        vertical-align: top;\n",
       "    }\n",
       "\n",
       "    .dataframe thead th {\n",
       "        text-align: right;\n",
       "    }\n",
       "</style>\n",
       "<table border=\"1\" class=\"dataframe\">\n",
       "  <thead>\n",
       "    <tr style=\"text-align: right;\">\n",
       "      <th></th>\n",
       "      <th>cookie</th>\n",
       "      <th>ingredients</th>\n",
       "      <th>calories</th>\n",
       "      <th>radius</th>\n",
       "      <th>cost_to_make</th>\n",
       "      <th>is_big_cookie</th>\n",
       "      <th>avg_radius</th>\n",
       "    </tr>\n",
       "  </thead>\n",
       "  <tbody>\n",
       "    <tr>\n",
       "      <th>2</th>\n",
       "      <td>nevadito</td>\n",
       "      <td>[\"flour\",\"chocolate chips\",\"milk\",\"vanilla ext...</td>\n",
       "      <td>224</td>\n",
       "      <td>4.069</td>\n",
       "      <td>1.04</td>\n",
       "      <td>True</td>\n",
       "      <td>3.959000</td>\n",
       "    </tr>\n",
       "    <tr>\n",
       "      <th>7</th>\n",
       "      <td>chocolate</td>\n",
       "      <td>[\"flour\",\"chocolate chips\",\"sugar\",\"butter\"]</td>\n",
       "      <td>243</td>\n",
       "      <td>3.684</td>\n",
       "      <td>1.17</td>\n",
       "      <td>False</td>\n",
       "      <td>3.995077</td>\n",
       "    </tr>\n",
       "    <tr>\n",
       "      <th>10</th>\n",
       "      <td>nevadito</td>\n",
       "      <td>[\"flour\",\"chocolate chips\",\"milk\",\"vanilla ext...</td>\n",
       "      <td>216</td>\n",
       "      <td>3.848</td>\n",
       "      <td>1.28</td>\n",
       "      <td>False</td>\n",
       "      <td>3.959000</td>\n",
       "    </tr>\n",
       "    <tr>\n",
       "      <th>17</th>\n",
       "      <td>chocolate</td>\n",
       "      <td>[\"flour\",\"chocolate chips\",\"sugar\",\"butter\"]</td>\n",
       "      <td>209</td>\n",
       "      <td>3.182</td>\n",
       "      <td>1.53</td>\n",
       "      <td>False</td>\n",
       "      <td>3.995077</td>\n",
       "    </tr>\n",
       "    <tr>\n",
       "      <th>19</th>\n",
       "      <td>nevadito</td>\n",
       "      <td>[\"flour\",\"chocolate chips\",\"milk\",\"vanilla ext...</td>\n",
       "      <td>236</td>\n",
       "      <td>4.043</td>\n",
       "      <td>1.29</td>\n",
       "      <td>True</td>\n",
       "      <td>3.959000</td>\n",
       "    </tr>\n",
       "    <tr>\n",
       "      <th>29</th>\n",
       "      <td>nevadito</td>\n",
       "      <td>[\"flour\",\"chocolate chips\",\"milk\",\"vanilla ext...</td>\n",
       "      <td>219</td>\n",
       "      <td>4.346</td>\n",
       "      <td>1.18</td>\n",
       "      <td>True</td>\n",
       "      <td>3.959000</td>\n",
       "    </tr>\n",
       "    <tr>\n",
       "      <th>36</th>\n",
       "      <td>nevadito</td>\n",
       "      <td>[\"flour\",\"chocolate chips\",\"milk\",\"vanilla ext...</td>\n",
       "      <td>211</td>\n",
       "      <td>4.152</td>\n",
       "      <td>1.72</td>\n",
       "      <td>True</td>\n",
       "      <td>3.959000</td>\n",
       "    </tr>\n",
       "    <tr>\n",
       "      <th>43</th>\n",
       "      <td>nevadito</td>\n",
       "      <td>[\"flour\",\"chocolate chips\",\"milk\",\"vanilla ext...</td>\n",
       "      <td>205</td>\n",
       "      <td>3.776</td>\n",
       "      <td>0.96</td>\n",
       "      <td>False</td>\n",
       "      <td>3.959000</td>\n",
       "    </tr>\n",
       "    <tr>\n",
       "      <th>48</th>\n",
       "      <td>chocolate</td>\n",
       "      <td>[\"flour\",\"chocolate chips\",\"sugar\",\"butter\"]</td>\n",
       "      <td>240</td>\n",
       "      <td>4.212</td>\n",
       "      <td>0.97</td>\n",
       "      <td>True</td>\n",
       "      <td>3.995077</td>\n",
       "    </tr>\n",
       "    <tr>\n",
       "      <th>50</th>\n",
       "      <td>nevadito</td>\n",
       "      <td>[\"flour\",\"chocolate chips\",\"milk\",\"vanilla ext...</td>\n",
       "      <td>220</td>\n",
       "      <td>3.855</td>\n",
       "      <td>2.21</td>\n",
       "      <td>False</td>\n",
       "      <td>3.959000</td>\n",
       "    </tr>\n",
       "  </tbody>\n",
       "</table>\n",
       "</div>"
      ],
      "text/plain": [
       "       cookie                                        ingredients  calories  \\\n",
       "2    nevadito  [\"flour\",\"chocolate chips\",\"milk\",\"vanilla ext...       224   \n",
       "7   chocolate       [\"flour\",\"chocolate chips\",\"sugar\",\"butter\"]       243   \n",
       "10   nevadito  [\"flour\",\"chocolate chips\",\"milk\",\"vanilla ext...       216   \n",
       "17  chocolate       [\"flour\",\"chocolate chips\",\"sugar\",\"butter\"]       209   \n",
       "19   nevadito  [\"flour\",\"chocolate chips\",\"milk\",\"vanilla ext...       236   \n",
       "29   nevadito  [\"flour\",\"chocolate chips\",\"milk\",\"vanilla ext...       219   \n",
       "36   nevadito  [\"flour\",\"chocolate chips\",\"milk\",\"vanilla ext...       211   \n",
       "43   nevadito  [\"flour\",\"chocolate chips\",\"milk\",\"vanilla ext...       205   \n",
       "48  chocolate       [\"flour\",\"chocolate chips\",\"sugar\",\"butter\"]       240   \n",
       "50   nevadito  [\"flour\",\"chocolate chips\",\"milk\",\"vanilla ext...       220   \n",
       "\n",
       "    radius  cost_to_make  is_big_cookie  avg_radius  \n",
       "2    4.069          1.04           True    3.959000  \n",
       "7    3.684          1.17          False    3.995077  \n",
       "10   3.848          1.28          False    3.959000  \n",
       "17   3.182          1.53          False    3.995077  \n",
       "19   4.043          1.29           True    3.959000  \n",
       "29   4.346          1.18           True    3.959000  \n",
       "36   4.152          1.72           True    3.959000  \n",
       "43   3.776          0.96          False    3.959000  \n",
       "48   4.212          0.97           True    3.995077  \n",
       "50   3.855          2.21          False    3.959000  "
      ]
     },
     "execution_count": 90,
     "metadata": {},
     "output_type": "execute_result"
    }
   ],
   "source": [
    "#Add your code here\n",
    "chocolate_chip_cookies = cookies[cookies.ingredients.str.contains(\"chocolate chips\")]\n",
    "chocolate_chip_cookies.head(10)"
   ]
  },
  {
   "attachments": {},
   "cell_type": "markdown",
   "metadata": {},
   "source": [
    "#### Problem 5\n",
    "\n",
    "Create a boxplot of `cost_to_make` for all cookies except `chocolate` using the `boxplot()` function."
   ]
  },
  {
   "cell_type": "code",
   "execution_count": 91,
   "metadata": {},
   "outputs": [
    {
     "data": {
      "text/plain": [
       "{'whiskers': [<matplotlib.lines.Line2D at 0x282d3d2f9d0>,\n",
       "  <matplotlib.lines.Line2D at 0x282d3d2c650>],\n",
       " 'caps': [<matplotlib.lines.Line2D at 0x282d3d12b50>,\n",
       "  <matplotlib.lines.Line2D at 0x282d3deb010>],\n",
       " 'boxes': [<matplotlib.lines.Line2D at 0x282d3d98e10>],\n",
       " 'medians': [<matplotlib.lines.Line2D at 0x282d3de9990>],\n",
       " 'fliers': [<matplotlib.lines.Line2D at 0x282d3d1ce90>],\n",
       " 'means': []}"
      ]
     },
     "execution_count": 91,
     "metadata": {},
     "output_type": "execute_result"
    },
    {
     "data": {
      "image/png": "[encoded data removed]",
      "text/plain": [
       "<Figure size 640x480 with 1 Axes>"
      ]
     },
     "metadata": {},
     "output_type": "display_data"
    }
   ],
   "source": [
    "#Add your code here\n",
    "plt.boxplot(cookies[cookies.cookie != \"chocolate\"].cost_to_make)"
   ]
  },
  {
   "attachments": {},
   "cell_type": "markdown",
   "metadata": {},
   "source": [
    "#### Problem 6\n",
    "\n",
    "Create a histogram of the `bad berry bunny`'s calories using the `plot()` function."
   ]
  },
  {
   "cell_type": "code",
   "execution_count": 92,
   "metadata": {},
   "outputs": [
    {
     "data": {
      "text/plain": [
       "<Axes: ylabel='Frequency'>"
      ]
     },
     "execution_count": 92,
     "metadata": {},
     "output_type": "execute_result"
    },
    {
     "data": {
      "image/png": "[encoded data removed]",
      "text/plain": [
       "<Figure size 640x480 with 1 Axes>"
      ]
     },
     "metadata": {},
     "output_type": "display_data"
    }
   ],
   "source": [
    "#Add your code here\n",
    "cookies[cookies.cookie == \"bad berry bunny\"].calories.plot(kind=\"hist\")"
   ]
  },
  {
   "cell_type": "markdown",
   "metadata": {},
   "source": [
    "#### Problem 7\n",
    "\n",
    "Calculate the average calories per cookie type and display the result in a bar chart."
   ]
  },
  {
   "cell_type": "code",
   "execution_count": 93,
   "metadata": {},
   "outputs": [
    {
     "data": {
      "text/plain": [
       "<Axes: xlabel='cookie'>"
      ]
     },
     "execution_count": 93,
     "metadata": {},
     "output_type": "execute_result"
    },
    {
     "data": {
      "image/png": "[encoded data removed]",
      "text/plain": [
       "<Figure size 640x480 with 1 Axes>"
      ]
     },
     "metadata": {},
     "output_type": "display_data"
    }
   ],
   "source": [
    "#Add your code here\n",
    "cookies.groupby(\"cookie\").calories.mean().plot(kind = \"bar\")"
   ]
  },
  {
   "cell_type": "markdown",
   "metadata": {},
   "source": [
    "#### Problem 8\n",
    "\n",
    "Find the top 3 most expensive cookies in terms of cost_to_make"
   ]
  },
  {
   "cell_type": "markdown",
   "metadata": {},
   "source": []
  },
  {
   "cell_type": "code",
   "execution_count": 97,
   "metadata": {},
   "outputs": [
    {
     "name": "stdout",
     "output_type": "stream",
     "text": [
      "          cookie                                        ingredients  calories  \\\n",
      "42  laddoo lemon             [\"flour\",\"lemon juice\",\"sugar\",\"ghee\"]       176   \n",
      "50      nevadito  [\"flour\",\"chocolate chips\",\"milk\",\"vanilla ext...       220   \n",
      "13  orange ozuna   [\"flour\",\"orange juice\",\"sugar\",\"vegetable oil\"]       159   \n",
      "\n",
      "    radius  cost_to_make  is_big_cookie  avg_radius  \n",
      "42   4.110          2.27           True    3.849000  \n",
      "50   3.855          2.21          False    3.959000  \n",
      "13   3.429          2.09          False    3.464263  \n"
     ]
    }
   ],
   "source": [
    "top_expensive_cookies = cookies.nlargest(3, 'cost_to_make')\n",
    "\n",
    "# Display the result\n",
    "print(top_expensive_cookies)"
   ]
  }
 ],
 "metadata": {
  "kernelspec": {
   "display_name": "Python 3",
   "language": "python",
   "name": "python3"
  },
  "language_info": {
   "codemirror_mode": {
    "name": "ipython",
    "version": 3
   },
   "file_extension": ".py",
   "mimetype": "text/x-python",
   "name": "python",
   "nbconvert_exporter": "python",
   "pygments_lexer": "ipython3",
   "version": "3.11.5"
  },
  "orig_nbformat": 4,
  "vscode": {
   "interpreter": {
    "hash": "63639127d0784e8e4de1a76bcacd89583be09d9f82d600966cd9457d183cbbf7"
   }
  }
 },
 "nbformat": 4,
 "nbformat_minor": 2
}
